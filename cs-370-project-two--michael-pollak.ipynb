{
 "cells": [
  {
   "cell_type": "markdown",
   "metadata": {},
   "source": [
    "# Treasure Hunt Game Notebook\n",
    "\n",
    "## Read and Review Your Starter Code\n",
    "The theme of this project is a popular treasure hunt game in which the player needs to find the treasure before the pirate does. While you will not be developing the entire game, you will write the part of the game that represents the intelligent agent, which is a pirate in this case. The pirate will try to find the optimal path to the treasure using deep Q-learning. \n",
    "\n",
    "You have been provided with two Python classes and this notebook to help you with this assignment. The first class, TreasureMaze.py, represents the environment, which includes a maze object defined as a matrix. The second class, GameExperience.py, stores the episodes – that is, all the states that come in between the initial state and the terminal state. This is later used by the agent for learning by experience, called \"exploration\". This notebook shows how to play a game. Your task is to complete the deep Q-learning implementation for which a skeleton implementation has been provided. The code blocs you will need to complete has #TODO as a header.\n",
    "\n",
    "First, read and review the next few code and instruction blocks to understand the code that you have been given."
   ]
  },
  {
   "cell_type": "code",
   "execution_count": 1,
   "metadata": {},
   "outputs": [
    {
     "name": "stderr",
     "output_type": "stream",
     "text": [
      "Using TensorFlow backend.\n"
     ]
    }
   ],
   "source": [
    "from __future__ import print_function\n",
    "import os, sys, time, datetime, json, random\n",
    "import numpy as np\n",
    "from keras.models import Sequential\n",
    "from keras.layers.core import Dense, Activation\n",
    "from keras.optimizers import SGD , Adam, RMSprop\n",
    "from keras.layers import PReLU\n",
    "import matplotlib.pyplot as plt\n",
    "from TreasureMaze import TreasureMaze\n",
    "from GameExperience import GameExperience\n",
    "%matplotlib inline"
   ]
  },
  {
   "cell_type": "markdown",
   "metadata": {},
   "source": [
    "The following code block contains an 8x8 matrix that will be used as a maze object:"
   ]
  },
  {
   "cell_type": "code",
   "execution_count": 2,
   "metadata": {},
   "outputs": [],
   "source": [
    "maze = np.array([\n",
    "    [ 1.,  0.,  1.,  1.,  1.,  1.,  1.,  1.],\n",
    "    [ 1.,  0.,  1.,  1.,  1.,  0.,  1.,  1.],\n",
    "    [ 1.,  1.,  1.,  1.,  0.,  1.,  0.,  1.],\n",
    "    [ 1.,  1.,  1.,  0.,  1.,  1.,  1.,  1.],\n",
    "    [ 1.,  1.,  0.,  1.,  1.,  1.,  1.,  1.],\n",
    "    [ 1.,  1.,  1.,  0.,  1.,  0.,  0.,  0.],\n",
    "    [ 1.,  1.,  1.,  0.,  1.,  1.,  1.,  1.],\n",
    "    [ 1.,  1.,  1.,  1.,  0.,  1.,  1.,  1.]\n",
    "])"
   ]
  },
  {
   "cell_type": "markdown",
   "metadata": {},
   "source": [
    "This helper function allows a visual representation of the maze object:"
   ]
  },
  {
   "cell_type": "code",
   "execution_count": 3,
   "metadata": {},
   "outputs": [],
   "source": [
    "def show(qmaze):\n",
    "    plt.grid('on')\n",
    "    nrows, ncols = qmaze.maze.shape\n",
    "    ax = plt.gca()\n",
    "    ax.set_xticks(np.arange(0.5, nrows, 1))\n",
    "    ax.set_yticks(np.arange(0.5, ncols, 1))\n",
    "    ax.set_xticklabels([])\n",
    "    ax.set_yticklabels([])\n",
    "    canvas = np.copy(qmaze.maze)\n",
    "    for row,col in qmaze.visited:\n",
    "        canvas[row,col] = 0.6\n",
    "    pirate_row, pirate_col, _ = qmaze.state\n",
    "    canvas[pirate_row, pirate_col] = 0.3   # pirate cell\n",
    "    canvas[nrows-1, ncols-1] = 0.9 # treasure cell\n",
    "    img = plt.imshow(canvas, interpolation='none', cmap='gray')\n",
    "    return img"
   ]
  },
  {
   "cell_type": "markdown",
   "metadata": {},
   "source": [
    "The pirate agent can move in four directions: left, right, up, and down. \n",
    "\n",
    "While the agent primarily learns by experience through exploitation, often, the agent can choose to explore the environment to find previously undiscovered paths. This is called \"exploration\" and is defined by epsilon. This value is typically a lower value such as 0.1, which means for every ten attempts, the agent will attempt to learn by experience nine times and will randomly explore a new path one time. You are encouraged to try various values for the exploration factor and see how the algorithm performs."
   ]
  },
  {
   "cell_type": "code",
   "execution_count": 4,
   "metadata": {},
   "outputs": [],
   "source": [
    "LEFT = 0\n",
    "UP = 1\n",
    "RIGHT = 2\n",
    "DOWN = 3\n",
    "\n",
    "\n",
    "# Exploration factor\n",
    "epsilon = 0.1\n",
    "\n",
    "# Actions dictionary\n",
    "actions_dict = {\n",
    "    LEFT: 'left',\n",
    "    UP: 'up',\n",
    "    RIGHT: 'right',\n",
    "    DOWN: 'down',\n",
    "}\n",
    "\n",
    "num_actions = len(actions_dict)\n"
   ]
  },
  {
   "cell_type": "markdown",
   "metadata": {},
   "source": [
    "The sample code block and output below show creating a maze object and performing one action (DOWN), which returns the reward. The resulting updated environment is visualized."
   ]
  },
  {
   "cell_type": "code",
   "execution_count": 5,
   "metadata": {},
   "outputs": [
    {
     "name": "stdout",
     "output_type": "stream",
     "text": [
      "reward= -0.04\n"
     ]
    },
    {
     "data": {
      "text/plain": [
       "<matplotlib.image.AxesImage at 0x251030b6a88>"
      ]
     },
     "execution_count": 5,
     "metadata": {},
     "output_type": "execute_result"
    },
    {
     "data": {
      "image/png": "[encoded data removed]",
      "text/plain": [
       "<Figure size 432x288 with 1 Axes>"
      ]
     },
     "metadata": {
      "needs_background": "light"
     },
     "output_type": "display_data"
    }
   ],
   "source": [
    "qmaze = TreasureMaze(maze)\n",
    "canvas, reward, game_over = qmaze.act(DOWN)\n",
    "print(\"reward=\", reward)\n",
    "show(qmaze)"
   ]
  },
  {
   "cell_type": "markdown",
   "metadata": {},
   "source": [
    "This function simulates a full game based on the provided trained model. The other parameters include the TreasureMaze object and the starting position of the pirate."
   ]
  },
  {
   "cell_type": "code",
   "execution_count": 6,
   "metadata": {},
   "outputs": [],
   "source": [
    "def play_game(model, qmaze, pirate_cell):\n",
    "    qmaze.reset(pirate_cell)\n",
    "    envstate = qmaze.observe()\n",
    "    while True:\n",
    "        prev_envstate = envstate\n",
    "        # get next action\n",
    "        q = model.predict(prev_envstate)\n",
    "        action = np.argmax(q[0])\n",
    "\n",
    "        # apply action, get rewards and new state\n",
    "        envstate, reward, game_status = qmaze.act(action)\n",
    "        if game_status == 'win':\n",
    "            return True\n",
    "        elif game_status == 'lose':\n",
    "            return False"
   ]
  },
  {
   "cell_type": "markdown",
   "metadata": {},
   "source": [
    "This function helps you to determine whether the pirate can win any game at all. If your maze is not well designed, the pirate may not win any game at all. In this case, your training would not yield any result. The provided maze in this notebook ensures that there is a path to win and you can run this method to check."
   ]
  },
  {
   "cell_type": "code",
   "execution_count": 7,
   "metadata": {},
   "outputs": [],
   "source": [
    "def completion_check(model, qmaze):\n",
    "    for cell in qmaze.free_cells:\n",
    "        if not qmaze.valid_actions(cell):\n",
    "            return False\n",
    "        if not play_game(model, qmaze, cell):\n",
    "            return False\n",
    "    return True"
   ]
  },
  {
   "cell_type": "markdown",
   "metadata": {},
   "source": [
    "The code you have been given in this block will build the neural network model. Review the code and note the number of layers, as well as the activation, optimizer, and loss functions that are used to train the model."
   ]
  },
  {
   "cell_type": "code",
   "execution_count": 8,
   "metadata": {},
   "outputs": [],
   "source": [
    "def build_model(maze):\n",
    "    model = Sequential()\n",
    "    model.add(Dense(maze.size, input_shape=(maze.size,)))\n",
    "    model.add(PReLU())\n",
    "    model.add(Dense(maze.size))\n",
    "    model.add(PReLU())\n",
    "    model.add(Dense(num_actions))\n",
    "    model.compile(optimizer='adam', loss='mse')\n",
    "    return model"
   ]
  },
  {
   "cell_type": "markdown",
   "metadata": {},
   "source": [
    "# #TODO: Complete the Q-Training Algorithm Code Block\n",
    "\n",
    "This is your deep Q-learning implementation. The goal of your deep Q-learning implementation is to find the best possible navigation sequence that results in reaching the treasure cell while maximizing the reward. In your implementation, you need to determine the optimal number of epochs to achieve a 100% win rate.\n",
    "\n",
    "You will need to complete the section starting with #pseudocode. The pseudocode has been included for you."
   ]
  },
  {
   "cell_type": "code",
   "execution_count": 9,
   "metadata": {},
   "outputs": [],
   "source": [
    "def qtrain(model, maze, **opt):\n",
    "\n",
    "    # exploration factor\n",
    "    global epsilon \n",
    "\n",
    "    # number of epochs\n",
    "    n_epoch = opt.get('n_epoch', 15000)\n",
    "\n",
    "    # maximum memory to store episodes\n",
    "    max_memory = opt.get('max_memory', 1000)\n",
    "\n",
    "    # maximum data size for training\n",
    "    data_size = opt.get('data_size', 50)\n",
    "\n",
    "    # start time\n",
    "    start_time = datetime.datetime.now()\n",
    "\n",
    "    # Construct environment/game from numpy array: maze (see above)\n",
    "    qmaze = TreasureMaze(maze)\n",
    "\n",
    "    # Initialize experience replay object\n",
    "    experience = GameExperience(model, max_memory=max_memory)\n",
    "    \n",
    "    win_history = []   # history of win/lose game\n",
    "    hsize = qmaze.maze.size//2   # history window size\n",
    "    win_rate = 0.0\n",
    "    \n",
    "    # pseudocode:\n",
    "    # For each epoch:\n",
    "    for epoch in range(n_epoch):\n",
    "    #    Agent_cell = randomly select a free cell\n",
    "        Agent_cell = random.choice(qmaze.free_cells)\n",
    "    #    Reset the maze with agent set to above position\n",
    "    #    Hint: Review the reset method in the TreasureMaze.py class.\n",
    "        qmaze.reset(Agent_cell);\n",
    "    #    envstate = Environment.current_state\n",
    "    #    Hint: Review the observe method in the TreasureMaze.py class.\n",
    "        envstate = qmaze.observe()\n",
    "\n",
    "    #   track episodes\n",
    "        n_episodes = 0\n",
    "    #   track loss\n",
    "        loss = 0\n",
    "    #    While state is not game over:\n",
    "        while qmaze.game_status() == 'not_over':\n",
    "    #        previous_envstate = envstate\n",
    "            previous_envstate = envstate\n",
    "            q = model.predict(previous_envstate)\n",
    "    #        Action = randomly choose action (left, right, up, down) either by exploration or by exploitation\n",
    "            if np.random.rand() < epsilon*2.0:\n",
    "                action = random.choice(qmaze.valid_actions())\n",
    "            else:\n",
    "                action = np.argmax(q[0])\n",
    "    #        envstate, reward, game_status = qmaze.act(action)\n",
    "    #    Hint: Review the act method in the TreasureMaze.py class.\n",
    "            envstate, reward, game_status = qmaze.act(action)\n",
    "    #        episode = [previous_envstate, action, reward, envstate, game_status]\n",
    "            episode = [previous_envstate, action, reward, envstate, game_status]\n",
    "    #        Store episode in Experience replay object\n",
    "    #    Hint: Review the remember method in the GameExperience.py class.\n",
    "            experience.remember(episode)\n",
    "    #       finished an episode\n",
    "            n_episodes += 1\n",
    "                \n",
    "    #        Train neural network model and evaluate loss\n",
    "    #    Hint: Call GameExperience.get_data to retrieve training data (input and target) and pass to model.fit method \n",
    "    #          to train the model. You can call model.evaluate to determine loss.\n",
    "            inputs, targets = experience.get_data()\n",
    "            model.fit(inputs, targets, epochs=12, batch_size=24, verbose=0)\n",
    "            loss = model.evaluate(inputs, targets, verbose=0)\n",
    "\n",
    "    \n",
    "            if game_status == 'lose':\n",
    "                win_history.append(0)\n",
    "            elif game_status == 'win':\n",
    "                win_history.append(1)\n",
    "\n",
    "        win_rate = sum(win_history) / len(win_history)\n",
    "    #    If the win rate is above the threshold and your model passes the completion check, that would be your epoch.\n",
    "        if win_rate > epsilon and completion_check(model, qmaze):\n",
    "            print('We found a good epoch!')\n",
    "\n",
    "    #Print the epoch, loss, episodes, win count, and win rate for each epoch\n",
    "        dt = datetime.datetime.now() - start_time\n",
    "        t = format_time(dt.total_seconds())\n",
    "        template = \"Epoch: {:03d}/{:d} | Loss: {:.4f} | Episodes: {:d} | Win count: {:d} | Win rate: {:.3f} | time: {}\"\n",
    "        print(template.format(epoch, n_epoch-1, loss, n_episodes, sum(win_history), win_rate, t))\n",
    "        # We simply check if training has exhausted all free cells and if in all\n",
    "        # cases the agent won.\n",
    "        if win_rate > 0.9 : epsilon = 0.05\n",
    "        if sum(win_history[-hsize:]) == hsize and completion_check(model, qmaze):\n",
    "            print(\"Reached 100%% win rate at epoch: %d\" % (epoch,))\n",
    "            break\n",
    "    \n",
    "    \n",
    "    # Determine the total time for training\n",
    "    dt = datetime.datetime.now() - start_time\n",
    "    seconds = dt.total_seconds()\n",
    "    t = format_time(seconds)\n",
    "\n",
    "    print(\"n_epoch: %d, max_mem: %d, data: %d, time: %s\" % (epoch, max_memory, data_size, t))\n",
    "    return seconds\n",
    "\n",
    "# This is a small utility for printing readable time strings:\n",
    "def format_time(seconds):\n",
    "    if seconds < 400:\n",
    "        s = float(seconds)\n",
    "        return \"%.1f seconds\" % (s,)\n",
    "    elif seconds < 4000:\n",
    "        m = seconds / 60.0\n",
    "        return \"%.2f minutes\" % (m,)\n",
    "    else:\n",
    "        h = seconds / 3600.0\n",
    "        return \"%.2f hours\" % (h,)"
   ]
  },
  {
   "cell_type": "markdown",
   "metadata": {},
   "source": [
    "## Test Your Model\n",
    "\n",
    "Now we will start testing the deep Q-learning implementation. To begin, select **Cell**, then **Run All** from the menu bar. This will run your notebook. As it runs, you should see output begin to appear beneath the next few cells. The code below creates an instance of TreasureMaze."
   ]
  },
  {
   "cell_type": "code",
   "execution_count": 10,
   "metadata": {},
   "outputs": [
    {
     "data": {
      "text/plain": [
       "<matplotlib.image.AxesImage at 0x251041031c8>"
      ]
     },
     "execution_count": 10,
     "metadata": {},
     "output_type": "execute_result"
    },
    {
     "data": {
      "image/png": "[encoded data removed]",
      "text/plain": [
       "<Figure size 432x288 with 1 Axes>"
      ]
     },
     "metadata": {
      "needs_background": "light"
     },
     "output_type": "display_data"
    }
   ],
   "source": [
    "qmaze = TreasureMaze(maze)\n",
    "show(qmaze)"
   ]
  },
  {
   "cell_type": "markdown",
   "metadata": {},
   "source": [
    "In the next code block, you will build your model and train it using deep Q-learning. Note: This step takes several minutes to fully run."
   ]
  },
  {
   "cell_type": "code",
   "execution_count": 11,
   "metadata": {},
   "outputs": [
    {
     "name": "stdout",
     "output_type": "stream",
     "text": [
      "Epoch: 000/14999 | Loss: 0.0325 | Episodes: 35 | Win count: 1 | Win rate: 1.000 | time: 2.8 seconds\n",
      "Epoch: 001/14999 | Loss: 0.0003 | Episodes: 133 | Win count: 1 | Win rate: 0.500 | time: 6.7 seconds\n",
      "Epoch: 002/14999 | Loss: 0.0019 | Episodes: 77 | Win count: 2 | Win rate: 0.667 | time: 9.0 seconds\n",
      "Epoch: 003/14999 | Loss: 0.0003 | Episodes: 9 | Win count: 3 | Win rate: 0.750 | time: 9.3 seconds\n",
      "Epoch: 004/14999 | Loss: 0.0006 | Episodes: 136 | Win count: 3 | Win rate: 0.600 | time: 13.5 seconds\n",
      "Epoch: 005/14999 | Loss: 0.0002 | Episodes: 140 | Win count: 3 | Win rate: 0.500 | time: 17.6 seconds\n",
      "Epoch: 006/14999 | Loss: 0.0005 | Episodes: 147 | Win count: 3 | Win rate: 0.429 | time: 21.9 seconds\n",
      "Epoch: 007/14999 | Loss: 0.0023 | Episodes: 144 | Win count: 3 | Win rate: 0.375 | time: 26.0 seconds\n",
      "Epoch: 008/14999 | Loss: 0.0003 | Episodes: 58 | Win count: 4 | Win rate: 0.444 | time: 27.7 seconds\n",
      "Epoch: 009/14999 | Loss: 0.0010 | Episodes: 136 | Win count: 4 | Win rate: 0.400 | time: 31.6 seconds\n",
      "Epoch: 010/14999 | Loss: 0.0011 | Episodes: 144 | Win count: 4 | Win rate: 0.364 | time: 35.9 seconds\n",
      "Epoch: 011/14999 | Loss: 0.0002 | Episodes: 144 | Win count: 4 | Win rate: 0.333 | time: 40.1 seconds\n",
      "Epoch: 012/14999 | Loss: 0.0007 | Episodes: 135 | Win count: 4 | Win rate: 0.308 | time: 44.0 seconds\n",
      "Epoch: 013/14999 | Loss: 0.0001 | Episodes: 140 | Win count: 4 | Win rate: 0.286 | time: 48.0 seconds\n",
      "Epoch: 014/14999 | Loss: 0.0009 | Episodes: 155 | Win count: 4 | Win rate: 0.267 | time: 52.5 seconds\n",
      "Epoch: 015/14999 | Loss: 0.0002 | Episodes: 140 | Win count: 4 | Win rate: 0.250 | time: 56.7 seconds\n",
      "Epoch: 016/14999 | Loss: 0.0015 | Episodes: 60 | Win count: 5 | Win rate: 0.294 | time: 58.5 seconds\n",
      "Epoch: 017/14999 | Loss: 0.0014 | Episodes: 139 | Win count: 5 | Win rate: 0.278 | time: 62.5 seconds\n",
      "Epoch: 018/14999 | Loss: 0.0004 | Episodes: 16 | Win count: 6 | Win rate: 0.316 | time: 63.1 seconds\n",
      "Epoch: 019/14999 | Loss: 0.0011 | Episodes: 29 | Win count: 7 | Win rate: 0.350 | time: 63.9 seconds\n",
      "Epoch: 020/14999 | Loss: 0.0006 | Episodes: 17 | Win count: 8 | Win rate: 0.381 | time: 64.5 seconds\n",
      "Epoch: 021/14999 | Loss: 0.0021 | Episodes: 9 | Win count: 9 | Win rate: 0.409 | time: 64.8 seconds\n",
      "Epoch: 022/14999 | Loss: 0.0010 | Episodes: 140 | Win count: 9 | Win rate: 0.391 | time: 68.8 seconds\n",
      "Epoch: 023/14999 | Loss: 0.0016 | Episodes: 11 | Win count: 10 | Win rate: 0.417 | time: 69.1 seconds\n",
      "Epoch: 024/14999 | Loss: 0.0009 | Episodes: 13 | Win count: 11 | Win rate: 0.440 | time: 69.6 seconds\n",
      "Epoch: 025/14999 | Loss: 0.0007 | Episodes: 7 | Win count: 12 | Win rate: 0.462 | time: 69.8 seconds\n",
      "Epoch: 026/14999 | Loss: 0.0005 | Episodes: 144 | Win count: 12 | Win rate: 0.444 | time: 74.0 seconds\n",
      "Epoch: 027/14999 | Loss: 0.0016 | Episodes: 2 | Win count: 13 | Win rate: 0.464 | time: 74.1 seconds\n",
      "Epoch: 028/14999 | Loss: 0.0005 | Episodes: 26 | Win count: 14 | Win rate: 0.483 | time: 74.9 seconds\n",
      "Epoch: 029/14999 | Loss: 0.0013 | Episodes: 135 | Win count: 14 | Win rate: 0.467 | time: 78.9 seconds\n",
      "Epoch: 030/14999 | Loss: 0.0016 | Episodes: 139 | Win count: 14 | Win rate: 0.452 | time: 82.9 seconds\n",
      "Epoch: 031/14999 | Loss: 0.0011 | Episodes: 8 | Win count: 15 | Win rate: 0.469 | time: 83.2 seconds\n",
      "Epoch: 032/14999 | Loss: 0.0012 | Episodes: 142 | Win count: 15 | Win rate: 0.455 | time: 87.3 seconds\n",
      "Epoch: 033/14999 | Loss: 0.0009 | Episodes: 139 | Win count: 15 | Win rate: 0.441 | time: 91.3 seconds\n",
      "Epoch: 034/14999 | Loss: 0.0002 | Episodes: 139 | Win count: 15 | Win rate: 0.429 | time: 95.3 seconds\n",
      "Epoch: 035/14999 | Loss: 0.0003 | Episodes: 30 | Win count: 16 | Win rate: 0.444 | time: 96.2 seconds\n",
      "Epoch: 036/14999 | Loss: 0.0002 | Episodes: 136 | Win count: 16 | Win rate: 0.432 | time: 100.1 seconds\n",
      "Epoch: 037/14999 | Loss: 0.0003 | Episodes: 6 | Win count: 17 | Win rate: 0.447 | time: 100.4 seconds\n",
      "Epoch: 038/14999 | Loss: 0.0001 | Episodes: 142 | Win count: 17 | Win rate: 0.436 | time: 104.4 seconds\n",
      "Epoch: 039/14999 | Loss: 0.0002 | Episodes: 10 | Win count: 18 | Win rate: 0.450 | time: 104.7 seconds\n",
      "Epoch: 040/14999 | Loss: 0.0002 | Episodes: 5 | Win count: 19 | Win rate: 0.463 | time: 104.9 seconds\n",
      "Epoch: 041/14999 | Loss: 0.0001 | Episodes: 153 | Win count: 19 | Win rate: 0.452 | time: 109.3 seconds\n",
      "Epoch: 042/14999 | Loss: 0.0003 | Episodes: 2 | Win count: 20 | Win rate: 0.465 | time: 109.5 seconds\n",
      "Epoch: 043/14999 | Loss: 0.0001 | Episodes: 2 | Win count: 21 | Win rate: 0.477 | time: 109.6 seconds\n",
      "Epoch: 044/14999 | Loss: 0.0010 | Episodes: 140 | Win count: 21 | Win rate: 0.467 | time: 113.6 seconds\n",
      "Epoch: 045/14999 | Loss: 0.0014 | Episodes: 85 | Win count: 22 | Win rate: 0.478 | time: 116.0 seconds\n",
      "Epoch: 046/14999 | Loss: 0.0014 | Episodes: 156 | Win count: 22 | Win rate: 0.468 | time: 120.6 seconds\n",
      "Epoch: 047/14999 | Loss: 0.0013 | Episodes: 30 | Win count: 23 | Win rate: 0.479 | time: 121.5 seconds\n",
      "Epoch: 048/14999 | Loss: 0.0003 | Episodes: 17 | Win count: 24 | Win rate: 0.490 | time: 122.1 seconds\n",
      "Epoch: 049/14999 | Loss: 0.0011 | Episodes: 145 | Win count: 24 | Win rate: 0.480 | time: 126.2 seconds\n",
      "Epoch: 050/14999 | Loss: 0.0008 | Episodes: 144 | Win count: 24 | Win rate: 0.471 | time: 130.3 seconds\n",
      "Epoch: 051/14999 | Loss: 0.0007 | Episodes: 144 | Win count: 24 | Win rate: 0.462 | time: 134.4 seconds\n",
      "Epoch: 052/14999 | Loss: 0.0016 | Episodes: 15 | Win count: 25 | Win rate: 0.472 | time: 134.9 seconds\n",
      "Epoch: 053/14999 | Loss: 0.0004 | Episodes: 30 | Win count: 26 | Win rate: 0.481 | time: 135.8 seconds\n",
      "Epoch: 054/14999 | Loss: 0.0011 | Episodes: 8 | Win count: 27 | Win rate: 0.491 | time: 136.1 seconds\n",
      "Epoch: 055/14999 | Loss: 0.0016 | Episodes: 13 | Win count: 28 | Win rate: 0.500 | time: 136.6 seconds\n",
      "Epoch: 056/14999 | Loss: 0.0022 | Episodes: 58 | Win count: 29 | Win rate: 0.509 | time: 138.3 seconds\n",
      "Epoch: 057/14999 | Loss: 0.0008 | Episodes: 1 | Win count: 30 | Win rate: 0.517 | time: 138.4 seconds\n",
      "Epoch: 058/14999 | Loss: 0.0006 | Episodes: 15 | Win count: 31 | Win rate: 0.525 | time: 138.9 seconds\n",
      "Epoch: 059/14999 | Loss: 0.0004 | Episodes: 26 | Win count: 32 | Win rate: 0.533 | time: 139.7 seconds\n",
      "Epoch: 060/14999 | Loss: 0.0011 | Episodes: 23 | Win count: 33 | Win rate: 0.541 | time: 140.4 seconds\n",
      "Epoch: 061/14999 | Loss: 0.0019 | Episodes: 13 | Win count: 34 | Win rate: 0.548 | time: 140.8 seconds\n",
      "Epoch: 062/14999 | Loss: 0.0002 | Episodes: 50 | Win count: 35 | Win rate: 0.556 | time: 142.3 seconds\n",
      "Epoch: 063/14999 | Loss: 0.0006 | Episodes: 20 | Win count: 36 | Win rate: 0.562 | time: 143.0 seconds\n",
      "Epoch: 064/14999 | Loss: 0.0007 | Episodes: 14 | Win count: 37 | Win rate: 0.569 | time: 143.5 seconds\n",
      "Epoch: 065/14999 | Loss: 0.0007 | Episodes: 20 | Win count: 38 | Win rate: 0.576 | time: 144.2 seconds\n",
      "Epoch: 066/14999 | Loss: 0.0012 | Episodes: 22 | Win count: 39 | Win rate: 0.582 | time: 144.9 seconds\n",
      "Epoch: 067/14999 | Loss: 0.0005 | Episodes: 37 | Win count: 40 | Win rate: 0.588 | time: 146.1 seconds\n",
      "Epoch: 068/14999 | Loss: 0.0008 | Episodes: 38 | Win count: 41 | Win rate: 0.594 | time: 147.2 seconds\n",
      "Epoch: 069/14999 | Loss: 0.0007 | Episodes: 12 | Win count: 42 | Win rate: 0.600 | time: 147.6 seconds\n",
      "Epoch: 070/14999 | Loss: 0.0009 | Episodes: 101 | Win count: 43 | Win rate: 0.606 | time: 150.6 seconds\n",
      "Epoch: 071/14999 | Loss: 0.0016 | Episodes: 23 | Win count: 44 | Win rate: 0.611 | time: 151.3 seconds\n",
      "Epoch: 072/14999 | Loss: 0.0013 | Episodes: 17 | Win count: 45 | Win rate: 0.616 | time: 151.9 seconds\n",
      "Epoch: 073/14999 | Loss: 0.0008 | Episodes: 27 | Win count: 46 | Win rate: 0.622 | time: 152.7 seconds\n",
      "Epoch: 074/14999 | Loss: 0.0023 | Episodes: 30 | Win count: 47 | Win rate: 0.627 | time: 153.6 seconds\n",
      "Epoch: 075/14999 | Loss: 0.0003 | Episodes: 28 | Win count: 48 | Win rate: 0.632 | time: 154.5 seconds\n",
      "Epoch: 076/14999 | Loss: 0.0012 | Episodes: 18 | Win count: 49 | Win rate: 0.636 | time: 155.2 seconds\n",
      "Epoch: 077/14999 | Loss: 0.0004 | Episodes: 21 | Win count: 50 | Win rate: 0.641 | time: 155.9 seconds\n",
      "Epoch: 078/14999 | Loss: 0.0002 | Episodes: 43 | Win count: 51 | Win rate: 0.646 | time: 157.2 seconds\n",
      "Epoch: 079/14999 | Loss: 0.0007 | Episodes: 37 | Win count: 52 | Win rate: 0.650 | time: 158.3 seconds\n"
     ]
    },
    {
     "name": "stdout",
     "output_type": "stream",
     "text": [
      "Epoch: 080/14999 | Loss: 0.0001 | Episodes: 19 | Win count: 53 | Win rate: 0.654 | time: 158.9 seconds\n",
      "Epoch: 081/14999 | Loss: 0.0005 | Episodes: 33 | Win count: 54 | Win rate: 0.659 | time: 159.9 seconds\n",
      "Epoch: 082/14999 | Loss: 0.0008 | Episodes: 41 | Win count: 55 | Win rate: 0.663 | time: 161.1 seconds\n",
      "Epoch: 083/14999 | Loss: 0.0007 | Episodes: 21 | Win count: 56 | Win rate: 0.667 | time: 161.7 seconds\n",
      "Epoch: 084/14999 | Loss: 0.0001 | Episodes: 15 | Win count: 57 | Win rate: 0.671 | time: 162.3 seconds\n",
      "Epoch: 085/14999 | Loss: 0.0003 | Episodes: 28 | Win count: 58 | Win rate: 0.674 | time: 163.2 seconds\n",
      "Epoch: 086/14999 | Loss: 0.0002 | Episodes: 1 | Win count: 59 | Win rate: 0.678 | time: 163.4 seconds\n",
      "Epoch: 087/14999 | Loss: 0.0010 | Episodes: 49 | Win count: 60 | Win rate: 0.682 | time: 164.9 seconds\n",
      "Epoch: 088/14999 | Loss: 0.0010 | Episodes: 25 | Win count: 61 | Win rate: 0.685 | time: 165.8 seconds\n",
      "Epoch: 089/14999 | Loss: 0.0008 | Episodes: 4 | Win count: 62 | Win rate: 0.689 | time: 166.0 seconds\n",
      "Epoch: 090/14999 | Loss: 0.0002 | Episodes: 27 | Win count: 63 | Win rate: 0.692 | time: 166.9 seconds\n",
      "Epoch: 091/14999 | Loss: 0.0007 | Episodes: 61 | Win count: 64 | Win rate: 0.696 | time: 168.8 seconds\n",
      "Epoch: 092/14999 | Loss: 0.0013 | Episodes: 17 | Win count: 65 | Win rate: 0.699 | time: 169.4 seconds\n",
      "Epoch: 093/14999 | Loss: 0.0002 | Episodes: 19 | Win count: 66 | Win rate: 0.702 | time: 170.1 seconds\n",
      "Epoch: 094/14999 | Loss: 0.0010 | Episodes: 36 | Win count: 67 | Win rate: 0.705 | time: 171.3 seconds\n",
      "Epoch: 095/14999 | Loss: 0.0006 | Episodes: 11 | Win count: 68 | Win rate: 0.708 | time: 171.7 seconds\n",
      "Epoch: 096/14999 | Loss: 0.0011 | Episodes: 3 | Win count: 69 | Win rate: 0.711 | time: 171.9 seconds\n",
      "Epoch: 097/14999 | Loss: 0.0004 | Episodes: 14 | Win count: 70 | Win rate: 0.714 | time: 172.8 seconds\n",
      "Epoch: 098/14999 | Loss: 0.0007 | Episodes: 50 | Win count: 71 | Win rate: 0.717 | time: 174.6 seconds\n",
      "Epoch: 099/14999 | Loss: 0.0012 | Episodes: 16 | Win count: 72 | Win rate: 0.720 | time: 175.2 seconds\n",
      "Epoch: 100/14999 | Loss: 0.0005 | Episodes: 35 | Win count: 73 | Win rate: 0.723 | time: 176.5 seconds\n",
      "Epoch: 101/14999 | Loss: 0.0006 | Episodes: 11 | Win count: 74 | Win rate: 0.725 | time: 177.2 seconds\n",
      "Epoch: 102/14999 | Loss: 0.0020 | Episodes: 32 | Win count: 75 | Win rate: 0.728 | time: 178.3 seconds\n",
      "Epoch: 103/14999 | Loss: 0.0010 | Episodes: 58 | Win count: 76 | Win rate: 0.731 | time: 180.2 seconds\n",
      "Epoch: 104/14999 | Loss: 0.0016 | Episodes: 1 | Win count: 77 | Win rate: 0.733 | time: 180.4 seconds\n",
      "Epoch: 105/14999 | Loss: 0.0005 | Episodes: 16 | Win count: 78 | Win rate: 0.736 | time: 181.3 seconds\n",
      "Epoch: 106/14999 | Loss: 0.0010 | Episodes: 20 | Win count: 79 | Win rate: 0.738 | time: 182.2 seconds\n",
      "Epoch: 107/14999 | Loss: 0.0004 | Episodes: 58 | Win count: 80 | Win rate: 0.741 | time: 184.1 seconds\n",
      "Epoch: 108/14999 | Loss: 0.0003 | Episodes: 5 | Win count: 81 | Win rate: 0.743 | time: 184.4 seconds\n",
      "Epoch: 109/14999 | Loss: 0.0005 | Episodes: 33 | Win count: 82 | Win rate: 0.745 | time: 185.5 seconds\n",
      "Epoch: 110/14999 | Loss: 0.0004 | Episodes: 7 | Win count: 83 | Win rate: 0.748 | time: 185.8 seconds\n",
      "Epoch: 111/14999 | Loss: 0.0002 | Episodes: 45 | Win count: 84 | Win rate: 0.750 | time: 187.1 seconds\n",
      "Epoch: 112/14999 | Loss: 0.0010 | Episodes: 27 | Win count: 85 | Win rate: 0.752 | time: 188.0 seconds\n",
      "Epoch: 113/14999 | Loss: 0.0015 | Episodes: 20 | Win count: 86 | Win rate: 0.754 | time: 188.8 seconds\n",
      "Epoch: 114/14999 | Loss: 0.0010 | Episodes: 16 | Win count: 87 | Win rate: 0.757 | time: 189.4 seconds\n",
      "Epoch: 115/14999 | Loss: 0.0009 | Episodes: 1 | Win count: 88 | Win rate: 0.759 | time: 189.5 seconds\n",
      "Epoch: 116/14999 | Loss: 0.0017 | Episodes: 1 | Win count: 89 | Win rate: 0.761 | time: 189.7 seconds\n",
      "Epoch: 117/14999 | Loss: 0.0006 | Episodes: 13 | Win count: 90 | Win rate: 0.763 | time: 190.2 seconds\n",
      "Epoch: 118/14999 | Loss: 0.0023 | Episodes: 29 | Win count: 91 | Win rate: 0.765 | time: 191.1 seconds\n",
      "Epoch: 119/14999 | Loss: 0.0007 | Episodes: 28 | Win count: 92 | Win rate: 0.767 | time: 192.2 seconds\n",
      "Epoch: 120/14999 | Loss: 0.0012 | Episodes: 25 | Win count: 93 | Win rate: 0.769 | time: 193.0 seconds\n",
      "Epoch: 121/14999 | Loss: 0.0006 | Episodes: 9 | Win count: 94 | Win rate: 0.770 | time: 193.4 seconds\n",
      "Epoch: 122/14999 | Loss: 0.0011 | Episodes: 12 | Win count: 95 | Win rate: 0.772 | time: 193.9 seconds\n",
      "Epoch: 123/14999 | Loss: 0.0002 | Episodes: 22 | Win count: 96 | Win rate: 0.774 | time: 194.7 seconds\n",
      "Epoch: 124/14999 | Loss: 0.0007 | Episodes: 40 | Win count: 97 | Win rate: 0.776 | time: 196.0 seconds\n",
      "Epoch: 125/14999 | Loss: 0.0018 | Episodes: 19 | Win count: 98 | Win rate: 0.778 | time: 196.7 seconds\n",
      "Epoch: 126/14999 | Loss: 0.0009 | Episodes: 10 | Win count: 99 | Win rate: 0.780 | time: 197.2 seconds\n",
      "Epoch: 127/14999 | Loss: 0.0006 | Episodes: 15 | Win count: 100 | Win rate: 0.781 | time: 197.9 seconds\n",
      "Epoch: 128/14999 | Loss: 0.0007 | Episodes: 56 | Win count: 101 | Win rate: 0.783 | time: 199.8 seconds\n",
      "Epoch: 129/14999 | Loss: 0.0006 | Episodes: 13 | Win count: 102 | Win rate: 0.785 | time: 200.3 seconds\n",
      "Epoch: 130/14999 | Loss: 0.0004 | Episodes: 20 | Win count: 103 | Win rate: 0.786 | time: 201.0 seconds\n",
      "Epoch: 131/14999 | Loss: 0.0006 | Episodes: 18 | Win count: 104 | Win rate: 0.788 | time: 201.6 seconds\n",
      "Epoch: 132/14999 | Loss: 0.0004 | Episodes: 2 | Win count: 105 | Win rate: 0.789 | time: 201.9 seconds\n",
      "Epoch: 133/14999 | Loss: 0.0007 | Episodes: 14 | Win count: 106 | Win rate: 0.791 | time: 202.6 seconds\n",
      "Epoch: 134/14999 | Loss: 0.0002 | Episodes: 9 | Win count: 107 | Win rate: 0.793 | time: 203.1 seconds\n",
      "Epoch: 135/14999 | Loss: 0.0003 | Episodes: 7 | Win count: 108 | Win rate: 0.794 | time: 203.5 seconds\n",
      "Epoch: 136/14999 | Loss: 0.0003 | Episodes: 1 | Win count: 109 | Win rate: 0.796 | time: 203.6 seconds\n",
      "Epoch: 137/14999 | Loss: 0.0003 | Episodes: 7 | Win count: 110 | Win rate: 0.797 | time: 204.0 seconds\n",
      "Epoch: 138/14999 | Loss: 0.0010 | Episodes: 49 | Win count: 111 | Win rate: 0.799 | time: 205.5 seconds\n",
      "Epoch: 139/14999 | Loss: 0.0003 | Episodes: 36 | Win count: 112 | Win rate: 0.800 | time: 206.7 seconds\n",
      "Epoch: 140/14999 | Loss: 0.0004 | Episodes: 63 | Win count: 113 | Win rate: 0.801 | time: 208.6 seconds\n",
      "Epoch: 141/14999 | Loss: 0.0005 | Episodes: 22 | Win count: 114 | Win rate: 0.803 | time: 209.4 seconds\n",
      "Epoch: 142/14999 | Loss: 0.0005 | Episodes: 55 | Win count: 115 | Win rate: 0.804 | time: 211.2 seconds\n",
      "Epoch: 143/14999 | Loss: 0.0009 | Episodes: 4 | Win count: 116 | Win rate: 0.806 | time: 211.5 seconds\n",
      "Epoch: 144/14999 | Loss: 0.0016 | Episodes: 27 | Win count: 117 | Win rate: 0.807 | time: 212.4 seconds\n",
      "Epoch: 145/14999 | Loss: 0.0014 | Episodes: 2 | Win count: 118 | Win rate: 0.808 | time: 212.6 seconds\n",
      "Epoch: 146/14999 | Loss: 0.0017 | Episodes: 2 | Win count: 119 | Win rate: 0.810 | time: 212.8 seconds\n",
      "Epoch: 147/14999 | Loss: 0.0006 | Episodes: 21 | Win count: 120 | Win rate: 0.811 | time: 213.5 seconds\n",
      "Epoch: 148/14999 | Loss: 0.0008 | Episodes: 7 | Win count: 121 | Win rate: 0.812 | time: 213.8 seconds\n",
      "Epoch: 149/14999 | Loss: 0.0009 | Episodes: 11 | Win count: 122 | Win rate: 0.813 | time: 214.3 seconds\n",
      "Epoch: 150/14999 | Loss: 0.0001 | Episodes: 135 | Win count: 123 | Win rate: 0.815 | time: 218.3 seconds\n",
      "Epoch: 151/14999 | Loss: 0.0006 | Episodes: 3 | Win count: 124 | Win rate: 0.816 | time: 218.5 seconds\n",
      "We found a good epoch!\n",
      "Epoch: 152/14999 | Loss: 0.0008 | Episodes: 45 | Win count: 125 | Win rate: 0.817 | time: 220.3 seconds\n",
      "Reached 100% win rate at epoch: 152\n",
      "n_epoch: 152, max_mem: 512, data: 32, time: 220.7 seconds\n"
     ]
    },
    {
     "data": {
      "text/plain": [
       "220.747418"
      ]
     },
     "execution_count": 11,
     "metadata": {},
     "output_type": "execute_result"
    }
   ],
   "source": [
    "model = build_model(maze)\n",
    "qtrain(model, maze, epochs=1000, max_memory=8*maze.size, data_size=32)"
   ]
  },
  {
   "cell_type": "markdown",
   "metadata": {},
   "source": [
    "This cell will check to see if the model passes the completion check. Note: This could take several minutes."
   ]
  },
  {
   "cell_type": "code",
   "execution_count": 12,
   "metadata": {},
   "outputs": [
    {
     "data": {
      "text/plain": [
       "<matplotlib.image.AxesImage at 0x25107ef7f08>"
      ]
     },
     "execution_count": 12,
     "metadata": {},
     "output_type": "execute_result"
    },
    {
     "data": {
      "image/png": "[encoded data removed]",
      "text/plain": [
       "<Figure size 432x288 with 1 Axes>"
      ]
     },
     "metadata": {
      "needs_background": "light"
     },
     "output_type": "display_data"
    }
   ],
   "source": [
    "completion_check(model, qmaze)\n",
    "show(qmaze)"
   ]
  },
  {
   "cell_type": "markdown",
   "metadata": {},
   "source": [
    "This cell will test your model for one game. It will start the pirate at the top-left corner and run play_game. The agent should find a path from the starting position to the target (treasure). The treasure is located in the bottom-right corner."
   ]
  },
  {
   "cell_type": "code",
   "execution_count": 13,
   "metadata": {},
   "outputs": [
    {
     "data": {
      "text/plain": [
       "<matplotlib.image.AxesImage at 0x25107f7ac08>"
      ]
     },
     "execution_count": 13,
     "metadata": {},
     "output_type": "execute_result"
    },
    {
     "data": {
      "image/png": "[encoded data removed]",
      "text/plain": [
       "<Figure size 432x288 with 1 Axes>"
      ]
     },
     "metadata": {
      "needs_background": "light"
     },
     "output_type": "display_data"
    }
   ],
   "source": [
    "pirate_start = (0, 0)\n",
    "play_game(model, qmaze, pirate_start)\n",
    "show(qmaze)"
   ]
  },
  {
   "cell_type": "markdown",
   "metadata": {},
   "source": [
    "## Save and Submit Your Work\n",
    "After you have finished creating the code for your notebook, save your work. Make sure that your notebook contains your name in the filename (e.g. Doe_Jane_ProjectTwo.ipynb). This will help your instructor access and grade your work easily. Download a copy of your IPYNB file and submit it to Brightspace. Refer to the Jupyter Notebook in Apporto Tutorial if you need help with these tasks."
   ]
  }
 ],
 "metadata": {
  "kernelspec": {
   "display_name": "Python 3",
   "language": "python",
   "name": "python3"
  },
  "language_info": {
   "codemirror_mode": {
    "name": "ipython",
    "version": 3
   },
   "file_extension": ".py",
   "mimetype": "text/x-python",
   "name": "python",
   "nbconvert_exporter": "python",
   "pygments_lexer": "ipython3",
   "version": "3.7.4"
  }
 },
 "nbformat": 4,
 "nbformat_minor": 2
}
